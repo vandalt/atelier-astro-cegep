{
 "cells": [
  {
   "cell_type": "markdown",
   "id": "b4735450",
   "metadata": {},
   "source": [
    "# Atelier pour le cours d'astronomie\n",
    "\n",
    "## Format de l'atelier\n",
    "\n",
    "L'atelier a été créé sous forme de cahier [Jupyter Notebook](https://jupyter.org/) car ce dernier permet d'afficher des figures et du texte formatté via GitHub. Le cahier mélange des cellules de texte (comme celle que vous lisez présementement) et des cellules de code (comme la prochaine). Le code est un code Python normal. Vous pouvez donc copier des bouts de code dans un éditeur. J'ai également inclut une version `.py` de l'atelier. Cependant, la version \"blank\" aura beaucoup de commentaires et sera peut-être difficile à lire.\n",
    "\n",
    "Si vous utilisez autre chose qu'un cahier Jupyter, je suggère donc de créer un nouveau fichier dans votre éditeur, de lire les instructions dans ce fichier-ci et de copier le code dans votre fichier à mesure que l'atelier progresse.\n",
    "\n",
    "## Contexte\n",
    "\n",
    "Dans cet atelier, nous allons explorer l'analyse de données du télescope spatial James Webb (JWST).\n",
    "Nous allons calculer la photométrie de naines Y en utilisant les données du programme [GO 2473](https://www.stsci.edu/jwst-program-info/program/?program=2473), mené par mon collègue [Loïc Albert](https://exoplanetes.umontreal.ca/en/team-member/loic-albert/).\n",
    "\n",
    "Les naines Y sont les [naines brunes](https://fr.wikipedia.org/wiki/Naine_brune) les plus froides et les moins brillantes.\n",
    "Les naines brunes sont des objets astrophysiques qui se forment comme les étoiles, mais qui n'atteignent pas une masse suffisamment élevée pour la fusion nucléaire.\n",
    "Ainsi, elles se refroidissent continuellement avec le temps et ont des masses entre 13 et 75 fois celle de Jupiter.\n",
    "Leur faible masse et leur basse température font qu'elles ressemblent en plusieurs points aux exoplanètes géantes.\n",
    "Or, elles sont souvent isolées (elles n'orbitent pas une étoile), ce qui les rend plus faciles à observer.\n",
    "Elles sont donc, en plus d'être intéressantes en elles-même, d'excellent « proxy » pour mieux comprendre les planètes géantes.\n",
    "\n",
    "Vu leur basse température, les naines Y émettent la majorité de leur lumière dans l'infrarouge.\n",
    "Ceci les rend très difficile à observer à partir du sol, ou bien à partir de l'espace avec un télescope opérant dans le visible comme Hubble.\n",
    "Le télescope Webb est donc l'observatoire parfait pour les étudier plus en détails.\n",
    "Plus spécifiquement, nous avons obtenu des données d'imagerie avec l'instrument [NIRCam](https://jwst-docs.stsci.edu/jwst-near-infrared-camera/nircam-observing-modes/nircam-imaging#gsc.tab=0).\n",
    "\n",
    "L'objectif principal de ce programme d'observation est la recherche de compagnons.\n",
    "Par compagnon, on désigne d'autres naines Y encore plus froides qui seraient en orbite autour des cibles de notres programmes.\n",
    "Elles ne sont techniquement pas des planètes car les naines brunes ne sont pas des étoiles.\n",
    "Nous avons pour l'instant trouvé [un seul compagnon](https://ui.adsabs.harvard.edu/abs/2023ApJ...947L..30C/abstract), et je suis en train de compléter l'analyse du programme dans un article qui devrait paraître plus tard cette année.\n",
    "\n",
    "Vu la qualité des données Webb, il est également intéressant de contraindre la luminosité des cibles dans le programme via une analyse photométrique.\n",
    "Mon collègue Loïc a récemment publié [un article](https://ui.adsabs.harvard.edu/abs/2025AJ....169..163A/abstract) à ce sujet.\n",
    "Aujourd'hui, nous allons reproduire certaines parties de cette analyse.\n",
    "Plus spécifiquement, nous allons:\n",
    "\n",
    "- Accéder aux données en ligne via Python\n",
    "- Visualiser les données\n",
    "- Calculer la somme du flux dans les images pour calculer la photométrie\n",
    "\n",
    "## Importation et visualisation d'une image\n",
    "\n",
    "### Accès aux données via MAST\n",
    "\n",
    "Les données JWST sont disponibles sur le portail [MAST](https://mast.stsci.edu/portal/Mashup/Clients/Mast/Portal.html).\n",
    "Ce portail en ligne peut-être utilisé manuellement ou bien avec Python.\n",
    "Pour l'utiliser avec Python, nous allons recourir à [astroquery](https://astroquery.readthedocs.io/en/latest/).\n",
    "Si on connait l'URL des données qu'on souhaite télécharger, l'interface est assez simple.\n",
    "\n",
    "Les observations ont été effectuées avec deux filtres photométriques (couleurs): F150W et F480M.\n",
    "Le premier est un filtrer large (W pour _wide_) observant à 1.5 $\\mu$m et le second est un filtre moyen (M pour _medium_) observant à 4.8 $\\mu$m.\n",
    "Observer avec deux filtres différents nous permet de calculer la couleur de l'objet pour la comparer avec des modèles théoriques, et NIRCam peut observer deux couleurs en parallèle, donc aucun temps additionnel n'est requis!\n",
    "\n",
    "Ici, j'ai pré-sélectionné les observations de WISE-0366, l'une des cibles observée par notre programme.\n",
    "Le code ci-dessous télécharge ces données si elles ne sont pas déjà sur votre ordinateur.\n",
    "\n",
    "Pour cet atelier, toutes les données sont également sur la page GitHub si jamais le téléchargement par Python ne fonctionne pas.\n",
    "\n",
    "**Exercice: Avec l'interface MAST, téléchargez les données, mais seulement si elles ne sont pas sur votre ordinateur.**"
   ]
  },
  {
   "cell_type": "code",
   "execution_count": null,
   "id": "52cb9487",
   "metadata": {},
   "outputs": [],
   "source": [
    "from pathlib import Path\n",
    "from astroquery.mast import Observations\n",
    "\n",
    "# Les objets \"Path\" sont plus pratique à manipuler que des strings\n",
    "data_dir = Path(\"./data\")\n",
    "\n",
    "# Dictionnaire donnant le nom des fichiers pour chaque filtre (couleur).\n",
    "files = {\n",
    "    \"f150w\": \"jw02473-o053_t053_nircam_clear-f150w_i2d.fits\",\n",
    "    \"f480m\": \"jw02473-o053_t053_nircam_clear-f480m_i2d.fits\",\n",
    "}\n",
    "base_uri = \"mast:JWST/product/\"\n",
    "# TODO: Download"
   ]
  },
  {
   "cell_type": "markdown",
   "id": "9054f7d0",
   "metadata": {},
   "source": [
    "Voilà! Les données devraient maintenant apparaître sous `data`.\n",
    "\n",
    "**Exercice: Vérifiez que les données sont sous `data` en listant son contenu**"
   ]
  },
  {
   "cell_type": "code",
   "execution_count": null,
   "id": "05672cf9",
   "metadata": {},
   "outputs": [],
   "source": [
    "# TODO: Check"
   ]
  },
  {
   "cell_type": "markdown",
   "id": "e1601b9b",
   "metadata": {},
   "source": [
    "### Ouverture des fichiers et méta-données\n",
    "\n",
    "Maintenant que les fichiers sont sur notre disque dur, on peut utiliser [Astropy](https://docs.astropy.org/en/latest/io/fits/index.html) pour les ouvrir.\n",
    "Commençons par explorer le contenu du fichier en F480M."
   ]
  },
  {
   "cell_type": "code",
   "execution_count": null,
   "id": "3714d70a",
   "metadata": {},
   "outputs": [],
   "source": [
    "filename = files[\"f480m\"]\n",
    "filepath = data_dir / filename"
   ]
  },
  {
   "cell_type": "markdown",
   "id": "bbc83791-aac0-424e-a980-023c8e58b378",
   "metadata": {},
   "source": [
    "**Exercice: ouvrez le fichier dans une variable `hdul` et affichez ses informations**"
   ]
  },
  {
   "cell_type": "code",
   "execution_count": null,
   "id": "b7605fee",
   "metadata": {},
   "outputs": [],
   "source": [
    "# TODO: Fits file"
   ]
  },
  {
   "cell_type": "markdown",
   "id": "cf3b8237",
   "metadata": {},
   "source": [
    "Comme on peut voir ici, le fichier contient plusieurs extensions.\n",
    "Chaque extension peut inclure une en-tête avec des méta-données, ainsi que des données (image, tableau, etc.).\n",
    "Par convention, l'extension 0 (`PRIMARY`) ne contient pas de données et seulement une en-tête avec des informations sur le programme.\n",
    "Les observations qui nous intéressent sont dans l'extension `1`, ou `\"SCI\"`."
   ]
  },
  {
   "cell_type": "code",
   "execution_count": null,
   "id": "bc56a13c",
   "metadata": {},
   "outputs": [],
   "source": [
    "import pprint  # pretty print\n",
    "\n",
    "hdr = hdul[0].header\n",
    "# TODO: sci_hdr et data\n",
    "hdul.close()  # On ferme le fichier maintenant que tout est extrait\n",
    "print(\"En-tête:\")\n",
    "pprint.pprint(hdr)"
   ]
  },
  {
   "cell_type": "markdown",
   "id": "468a449f-db97-4715-b58e-304f25741fc0",
   "metadata": {},
   "source": [
    "**Exercice: Modifiez la cellule ci-dessus pour extraire les données dans une variable `data_f480m` et l'en-tête SCI dans `sci_hdr`. Affichez ensuite le contenu de `sci_hdr`.**"
   ]
  },
  {
   "cell_type": "code",
   "execution_count": null,
   "id": "541c7996",
   "metadata": {},
   "outputs": [],
   "source": [
    "# TODO: Print sci_hdr"
   ]
  },
  {
   "cell_type": "markdown",
   "id": "797b4148",
   "metadata": {},
   "source": [
    "Voilà pour les en-têtes. On peut en extraire de l'information utile, notamment les unités dans lesquelles le flux est rapporté.\n",
    "\n",
    "**Exercice: En examinant l'en-tête, trouvez la clé (_key_) donnant les unités de flux. Complétez ensuite la cellule ci-dessous.**"
   ]
  },
  {
   "cell_type": "code",
   "execution_count": null,
   "id": "232c5cf1",
   "metadata": {},
   "outputs": [],
   "source": [
    "# TODO: Flux units\n",
    "print(\"Unités du flux:\")\n",
    "print(flux_units)"
   ]
  },
  {
   "cell_type": "markdown",
   "id": "00e00e04",
   "metadata": {},
   "source": [
    "Les données sont en megaJansky par steradian.\n",
    "Un Jansky mesure la densité de flux spectrale et est égal à $10^{−26}$ W m$^{−2}$ Hz$^{−1}$.\n",
    "Un steradian est une mesure d'angle solide (radian carré).\n",
    "\n",
    "### Affichage de l'image\n",
    "\n",
    "Regardons maintenant de quoi a l'air notre image."
   ]
  },
  {
   "cell_type": "code",
   "execution_count": null,
   "id": "237976c1",
   "metadata": {},
   "outputs": [],
   "source": [
    "print(\"Type de donnée:\", type(data_f480m))\n",
    "print(\"Format des données:\", data_f480m.shape)\n",
    "print(\"Données:\")\n",
    "print(data_f480m)"
   ]
  },
  {
   "cell_type": "markdown",
   "id": "cbfeca59",
   "metadata": {},
   "source": [
    "Les images sont stockées en tableaux [NumPy](https://numpy.org/).\n",
    "On voit ici que l'image a une taille de 2070x2076 pixels.\n",
    "Par contre, lorsqu'on imprime les données, tous les pixels ont une valeur `nan`, pour « not a number ».\n",
    "Cette valeur est utilisée pour signifier que les pixels au bord de l'image sont inutilisables.\n",
    "Si on regarde un segment au centre de l'image, on devrait voir des valeurs numériques.\n",
    "Une façon rapide de le vérifier est d'afficher l'image avec Matplotlib.\n",
    "\n",
    "La fonction `plt.imshow()` nous permet d'afficher l'image.\n",
    "On peut ajouter une barre de couleurs avec `plt.colorbar()` pour avoir une idée des valeurs numériques.\n",
    "\n",
    "**Exercice: Affichez l'image**"
   ]
  },
  {
   "cell_type": "code",
   "execution_count": null,
   "id": "fbbe378e",
   "metadata": {},
   "outputs": [],
   "source": [
    "import matplotlib.pyplot as plt\n",
    "\n",
    "plt.style.use(\"tableau-colorblind10\")  # Je suis daltonien\n",
    "\n",
    "# TODO: Display image"
   ]
  },
  {
   "cell_type": "markdown",
   "id": "cf3fe4e6",
   "metadata": {},
   "source": [
    "On voit que la majorité des pixels ne sont en effet pas des `nan`. Bonne nouvelle!\n",
    "Par contre, on ne voit pas grand chose dans l'image\n",
    "Ceci se produit généralement lorsque quelques pixels sont très brillants. Le reste des pixels apparaît alors comme très sombres.\n",
    "On pourrait manuellement zoomer sur la barre de couleurs, mais ce n'est pas optimal.\n",
    "\n",
    "Voyons voir si une échelle logarithmique nous aide à y voir plus clair avec `norm=\"log\"`.\n",
    "N'hésitez pas à zoomer sur l'image pour voir la forme des sources de lumière.\n",
    "\n",
    "**Exercice: Reproduisez la figure ci-dessus avec une échelle log pour les couleurs**"
   ]
  },
  {
   "cell_type": "code",
   "execution_count": null,
   "id": "e57314c5",
   "metadata": {},
   "outputs": [],
   "source": [
    "# TODO: Normalisation log"
   ]
  },
  {
   "cell_type": "markdown",
   "id": "69b2551d",
   "metadata": {},
   "source": [
    "On voit dans l'image ci-dessus que nos images NIRCam sont des images à grand champ: on n'observe pas uniquement l'étoile ou la naine brune qui nous intéresse, mais son voisinage également.\n",
    "Nous identifierons WISE-0336 plus bas\n",
    "\n",
    "Il resterait deux choses à faire pour améliorer la visualisation:\n",
    "\n",
    "1. Matplotlib mets le pixel `(0, 0)` en haut à gauche de l'image, comme il est positionné dans un tableau. Il est plus intuitif de l'afficher en bas avec `origin=\"lower\"`. On peut ajouter cet argument à `plt.imshow()` ou configurer Matplotlib pour le reste du code avec `rcParams`.\n",
    "2. Les sources les plus brillantes affectent encore l'échelle de la barre de couleurs. Les arguments `vmin` et `vmax` permettent de changer la gamme dynamique de l'image. On peut utiliser les quantiles de l'image pour les ajuster.\n",
    "3. On peut changer [les couleurs](https://matplotlib.org/stable/users/explain/colors/colormaps.html) pour du rouge, afin de mieux représenter l'infrarouge (totalement facultatif, on pourrait utiliser une échelle de gris également).\n",
    "\n",
    "**Exercice: Complétez les changement ci-dessus et affichez à nouveau l'image.**"
   ]
  },
  {
   "cell_type": "code",
   "execution_count": null,
   "id": "dc948dbd",
   "metadata": {},
   "outputs": [],
   "source": [
    "import numpy as np\n",
    "from matplotlib import rcParams\n",
    "\n",
    "# TODO: origin lower\n",
    "# TODO: Default cmap\n",
    "\n",
    "# TODO: vmin et vmax\n",
    "\n",
    "# TODO: Plot"
   ]
  },
  {
   "cell_type": "markdown",
   "id": "ffde005d",
   "metadata": {},
   "source": [
    "On voit certains effets de détecteur dans les images: des lignes horizontales et 4 rectangles verticaux.\n",
    "On peut les ignorer pour l'instant. On se concentrera sur une toute petite région du détecteur.\n",
    "\n",
    "## Images dans les deux couleurs\n",
    "\n",
    "Maintenant que la structure des images nous est familière, on peut importer les donné du filtre F150W également.\n",
    "La structure est la même que pour les données F480M.\n",
    "On peut créer un dictionnaire pour y accéder facilement.\n",
    "\n",
    "**Exercice: Importez l'image F150W et ajoutez la à `data_dict`.**"
   ]
  },
  {
   "cell_type": "code",
   "execution_count": null,
   "id": "17fc1ff8",
   "metadata": {},
   "outputs": [],
   "source": [
    "# TODO: F150W\n",
    "\n",
    "data_dict = {\n",
    "    \"f480m\": data_f480m,\n",
    "    # TODO: F150W\n",
    "}"
   ]
  },
  {
   "cell_type": "markdown",
   "id": "1fc29497",
   "metadata": {},
   "source": [
    "On peut maintenant afficher les images.\n",
    "Nous répéterons ces opérations quelque fois, donc on peut créer des fonctions.\n",
    "\n",
    "**Exercice: Affichez les deux image, puis convertissez votre code en une fonction `plot_image(data)` pour afficher une seule image ainsi qu'une fonction `plot_images(data_dict)` pour afficher les deux couleurs côte à côte.**"
   ]
  },
  {
   "cell_type": "code",
   "execution_count": null,
   "id": "ed3a3ad1",
   "metadata": {},
   "outputs": [],
   "source": [
    "plot_images(data_dict)\n",
    "plt.show()"
   ]
  },
  {
   "cell_type": "markdown",
   "id": "4d378d40",
   "metadata": {},
   "source": [
    "On remarque que le détecteur « bleu » ou _Courtes longueurs d'ondes_ de NIRCam est segmenté en 4.\n",
    "Voir la [documentation](https://jwst-docs.stsci.edu/jwst-near-infrared-camera/nircam-instrumentation/nircam-detector-overview#gsc.tab=0) pour plus de détails.\n",
    "\n",
    "Ajustons l'échelle pour mieux voir les sources\n",
    "\n",
    "**Exercice: Ajoutez l'option `use_vmin_vmax` à votre fonction. Elle devrait ajuster les quantiles comme nous avons fait plus haut.**"
   ]
  },
  {
   "cell_type": "code",
   "execution_count": null,
   "id": "18fc93d9",
   "metadata": {},
   "outputs": [],
   "source": [
    "# TODO: Uncomment\n",
    "# plot_images(data_dict, use_vmin_vmax=True)\n",
    "# plt.show()"
   ]
  },
  {
   "cell_type": "markdown",
   "id": "eaded44e",
   "metadata": {},
   "source": [
    "## Position de la source\n",
    "\n",
    "On pourrait ancrer l'image à des coordonnées [WCS](https://docs.astropy.org/en/stable/wcs/index.html), mais ce ne sera pas nécessaire pour notre exercice.\n",
    "Les images ont été obtenues à grand champ, mais on la photométrie se calcule uniquement dans les quelques pixels autour de notre source d'intérêt.\n",
    "\n",
    "WISE-0336 est une naine Y, donc elle est très froide, ce qui veut dire qu'elle est beaucoup plus brillante en F480M qu'en F150W.\n",
    "Essayons de l'identifier visuellement d'abord."
   ]
  },
  {
   "cell_type": "code",
   "execution_count": null,
   "id": "260ed479",
   "metadata": {},
   "outputs": [],
   "source": [
    "plot_images(data_dict, use_vmin_vmax=True)\n",
    "plt.show()"
   ]
  },
  {
   "cell_type": "markdown",
   "id": "f89c6313",
   "metadata": {},
   "source": [
    "Pour notre projet, nous avons d'abord cherché les sources de cette manière, puis nous avons confirmé la position avec les coordonnées connues.\n",
    "La position pour chaque filtre est notée ci-dessous."
   ]
  },
  {
   "cell_type": "code",
   "execution_count": null,
   "id": "51b870f5",
   "metadata": {},
   "outputs": [],
   "source": [
    "object_name = \"WISE-0336\"\n",
    "f150_pos = (2734, 1759)\n",
    "f480_pos = (1296, 840)\n",
    "pos_dict = {\n",
    "    \"f480m\": f480_pos,\n",
    "    \"f150w\": f150_pos,\n",
    "}"
   ]
  },
  {
   "cell_type": "markdown",
   "id": "4a4dd4e3",
   "metadata": {},
   "source": [
    "On peut afficher la position pour chaque filtre ensuite.\n",
    "\n",
    "**Exercice: Modifiez votre fonction pour afficher une étoile à la position de WISE-0336 dans les deux filtres. Ajoutez l'argument `pos_dict`.**"
   ]
  },
  {
   "cell_type": "code",
   "execution_count": null,
   "id": "9d61831f",
   "metadata": {},
   "outputs": [],
   "source": [
    "plot_images(data_dict, use_vmin_vmax=True, pos_dict=pos_dict)\n",
    "plt.show()"
   ]
  },
  {
   "cell_type": "markdown",
   "id": "52aa5719",
   "metadata": {},
   "source": [
    "## Découpage de la source\n",
    "\n",
    "Maintenant que nous avons trouvé WISE-0336, inutile de garder toute l'image.\n",
    "Une région d'une soixantaine de pixels suffira.\n",
    "Dans chaque filtre, on peut découper 68 pixels autour de la source et afficher cette nouvelle image.\n",
    "\n",
    "**Exercice: Découpez une région de 68x68 pixels autours de WISE-0336 dans chaque filtre. Affichez ensuite cette image.**"
   ]
  },
  {
   "cell_type": "code",
   "execution_count": null,
   "id": "8a3496ed",
   "metadata": {},
   "outputs": [],
   "source": [
    "# TODO: Crop and show"
   ]
  },
  {
   "cell_type": "markdown",
   "id": "515c84e2",
   "metadata": {},
   "source": [
    "## Photométrie d'ouverture\n",
    "\n",
    "Maintenant que la cible d'intérêt est isolée, on peut calculer sa luminosité.\n",
    "Comme dans l'article mentionné au début du code, nous utiliserons la photométrie d'ouverture.\n",
    "Cette technique consiste à:\n",
    "\n",
    "1. Trouver le centre de la cible\n",
    "2. Définir une ouverture circulaire d'une taille donnée autour du centre\n",
    "3. Calculer le flux total dans l'ouverture\n",
    "4. Définir un anneau autour de la cible pour calculer le bruit de fond\n",
    "5. Soustraire le bruit de fond\n",
    "6. Convertir le flux en magnitude\n",
    "\n",
    "La librairie [photutils](https://photutils.readthedocs.io/en/stable/) implémente ce dont nous avons besoin pour faire ces calculs (sauf 6).\n",
    "Cependant, afin de bien comprendre toutes les étapes, c'est toujours une bonne idée de coder la solution manuellement lorsque l'on s'intéresse à un problème pour une première fois.\n",
    "Nous allons donc tout calculer nous même et comparer nos résultats avec ceux de photutils.\n",
    "Nous utiliserons uniquement les données F480M, comme le signal est meilleur dans ce filtre.\n",
    "\n",
    "**Note: Nous avons coupé les données à une taille égale de chaque côté. Ceci permet à des erreurs de dimensions de se glisser très facilement dans nos calcul. Un truc simple pour éviter ces erreurs pendant le développement est de changer la taille d'un des axes avec `data= data[:-1]`**.\n",
    "On peut ensuite enlever cette opération quand le code est terminé."
   ]
  },
  {
   "cell_type": "code",
   "execution_count": null,
   "id": "e594c799",
   "metadata": {},
   "outputs": [],
   "source": [
    "# TODO: Remove :-1\n",
    "data = crop_dict[\"f480m\"]\n",
    "data = data[:-1]"
   ]
  },
  {
   "cell_type": "markdown",
   "id": "96c8b866",
   "metadata": {},
   "source": [
    "### Conversion des unités\n",
    "\n",
    "Avant de commencer nos calculs il faut convertir les unités de flux.\n",
    "Comme mentionné plus tôt, les données sont en MJy/sr, qui donne une luminosité de surface.\n",
    "Ici, on souhaite travailler directement avec un flux. Nous avons deux options:\n",
    "\n",
    "1. Convertir les données vers des photons/seconde avec `sci_hdr[\"PHOTMJSR\"]`\n",
    "2. Convertir les données vers des Jansky avec `sci_hdr[\"PIXAR_SR\"]`, qui donne la surface d'un pixel en steradian\n",
    "\n",
    "Le calcul de la photométrie se fait de la même façon dans les deux cas.\n",
    "Seule l'étape 6 est différente.\n",
    "Ici, nous allons utiliser l'option 2 car elle simplifie légèrement l'étape 6."
   ]
  },
  {
   "cell_type": "code",
   "execution_count": null,
   "id": "af4650f2",
   "metadata": {},
   "outputs": [],
   "source": [
    "# 1e6 Jy/MJy et PIXAR_SR SR / pixel\n",
    "mjsr_to_jy = 1e6 * sci_hdr[\"PIXAR_SR\"]\n",
    "data = data * mjsr_to_jy\n",
    "flux_units = \"Jy\""
   ]
  },
  {
   "cell_type": "markdown",
   "id": "c68adf73",
   "metadata": {},
   "source": [
    "### 1. Trouver le centre de la cible\n",
    "\n",
    "Commençons par vérifier si la cible est au centre de l'image.\n",
    "\n",
    "**Exercice: Affichez l'image F480M ainsi qu'une ligne verticale et horizontale au milieu de chaque axe.**"
   ]
  },
  {
   "cell_type": "code",
   "execution_count": null,
   "id": "23f7db3c",
   "metadata": {},
   "outputs": [],
   "source": [
    "# TODO: Add lines\n",
    "plot_image(data)\n",
    "plt.show()"
   ]
  },
  {
   "cell_type": "markdown",
   "id": "f7f1f5a8",
   "metadata": {},
   "source": [
    "Elle ne semble pas l'être tout à fait! Regardons de plus près.\n",
    "\n",
    "**Exercice: Affichez le centre de l'image seulement**"
   ]
  },
  {
   "cell_type": "code",
   "execution_count": null,
   "id": "c52776f2",
   "metadata": {},
   "outputs": [],
   "source": [
    "# TODO: Lines + Zoom\n",
    "plot_image(data)\n",
    "plt.show()"
   ]
  },
  {
   "cell_type": "markdown",
   "id": "9ee5d6aa",
   "metadata": {},
   "source": [
    "On remarque deux choses:\n",
    "\n",
    "1. Le pixel central n'est pas nécessairement le plus brillant.\n",
    "2. L'image n'est pas parfaitement centrée sur un pixel.\n",
    "\n",
    "Le point 1 vient du fait que nous avons déterminé la position de la source approximativement avant de découper l'image.\n",
    "Pour ce qui est du point 2, il se peut que la source soit centrée entre deux pixels. Il faut donc calculer une position centrale plus précise, et pas seulement trouver le pixel le plus brillant.\n",
    "\n",
    "Il y a différentes façons de trouver le centre d'une image. Photutils implémente celles-ci dans son module [`centroids`](https://photutils.readthedocs.io/en/stable/user_guide/centroids.html):\n",
    "\n",
    "- Trouver le \"centre de masse\" de l'image\n",
    "- Ajuster un polynôme quadratique en 2 dimensions au centre de l'image\n",
    "- Ajuster une distribution gaussienne 1D à chaque dimension de l'image\n",
    "- Ajuster une distribution gaussienne 2D à l'image\n",
    "\n",
    "Nous utiliserons la première méthode ci-dessus: celle du centre de masse (CDM).\n",
    "Ici, centre de masse est une analogie: le flux dans chaque pixel est la « masse » du pixel.\n",
    "On doit donc calculer une moyenne pondérée de la position des pixels où les poids sont le flux dans chaque pixel.\n",
    "Ainsi, si tous les pixels sont égaux, le CDM est au milieu de l'image.\n",
    "Si tous les pixels sont à 0 mais qu'un pixel est non nul, le CDM sera sur ce pixels.\n",
    "Si tous les pixels sont à 0 mais que deux pixels sont non nuls et égaux, le CDM sera à mi-chemin entre ces deux pixels.\n",
    "Dans un cas réaliste comme ici, aucun pixel n'est nul. Chaque pixel \"tire\" le centre de masse vers lui en fonction de son flux.\n",
    "\n",
    "Nous allons donc calculer une somme pondérée de la position des pixels.\n",
    "\n",
    "**Exercice: Trouvez le centre de masse de l'image et affichez le sur un graphique. Attention aux axes: lequel est x et lequel est y?**\n",
    "\n",
    "<details>\n",
    "<summary>Cliquez pour un indice</summary>\n",
    "\n",
    "Faite une boucle sur chaque axe de `data` et pour chaque pixel:\n",
    "\n",
    "1. Obtenez le flux\n",
    "2. Multipliez la position x par le flux et ajoutez la à la moyenne en x\n",
    "3. Multipliez la position y par le flux et joutez la à la moyenne en y\n",
    "4. Divisez la moyenne par la somme des poids\n",
    "</details>"
   ]
  },
  {
   "cell_type": "code",
   "execution_count": null,
   "id": "79ac09a9",
   "metadata": {},
   "outputs": [],
   "source": [
    "# TODO: COM"
   ]
  },
  {
   "cell_type": "markdown",
   "id": "15d23d26",
   "metadata": {},
   "source": [
    "Voyons maintenant ce que `photutils` trouve comme centre de masse."
   ]
  },
  {
   "cell_type": "code",
   "execution_count": null,
   "id": "8804fe9c",
   "metadata": {},
   "outputs": [],
   "source": [
    "from photutils.centroids import centroid_com\n",
    "xy_com = centroid_com(data)\n",
    "print(\"Centre de masse photutils\", xy_com)"
   ]
  },
  {
   "cell_type": "markdown",
   "id": "2698021b",
   "metadata": {},
   "source": [
    "### 2 et 4. Ouverture circulaire et anneau pour le bruit de fond\n",
    "\n",
    "Il faut maintenant définir notre ouverture et notre anneau pour calculer le bruit de fond.\n",
    "Pour ce faire, nous utiliserons deux dictionaires qui contiennent les positions x et y des pixels dans chaque ouverture, ainsi que le flux de ces pixels.\n",
    "\n",
    "**Exercice: Remplissez les dicionnaires ci-dessous.**\n",
    "\n",
    "<details>\n",
    "<summary>Cliquez pour un indice</summary>\n",
    "\n",
    "Pour chaque pixel:\n",
    "\n",
    "1. Calculez sa distance du centre\n",
    "2. Si sa distance du centre est inférieure à `r_src` ajoutez le à `src_aperture`\n",
    "2. Si sa distance est entre `r_in` et `r_out` ajoutez le à `bkg_aperture`.\n",
    "</details>"
   ]
  },
  {
   "cell_type": "code",
   "execution_count": null,
   "id": "93ad951a",
   "metadata": {},
   "outputs": [],
   "source": [
    "# Ouverture pour la source\n",
    "src_aperture = {\n",
    "    \"x\": [],\n",
    "    \"y\": [],\n",
    "    \"flux\": [],\n",
    "}\n",
    "# Ouverture (anneau) bruit de fond\n",
    "bkg_aperture = {\n",
    "    \"x\": [],\n",
    "    \"y\": [],\n",
    "    \"flux\": [],\n",
    "}\n",
    "r_src = 8  # Rayon source\n",
    "r_in = 10  # Rayon intérieur fond\n",
    "r_out = 15  # Rayon extérieur fond\n",
    "# TODO: Fill apertures"
   ]
  },
  {
   "cell_type": "markdown",
   "id": "5aa17a12-7851-460b-9367-bc9de7d81340",
   "metadata": {},
   "source": [
    "**Exercice: Affichez les pixels appartenant à chaque ouverture**"
   ]
  },
  {
   "cell_type": "code",
   "execution_count": null,
   "id": "49367731",
   "metadata": {},
   "outputs": [],
   "source": [
    "fig, ax = plot_image(data)\n",
    "# TODO: Ajouter les ouvertures\n",
    "fig.legend()\n",
    "plt.show()"
   ]
  },
  {
   "cell_type": "markdown",
   "id": "8e4e5656",
   "metadata": {},
   "source": [
    "Voyons voir ce qu'en dit `photutils`.\n",
    "Le module [`aperture`](https://photutils.readthedocs.io/en/stable/user_guide/aperture.html) contient ce dont nous avons besoin."
   ]
  },
  {
   "cell_type": "code",
   "execution_count": null,
   "id": "45e48d99",
   "metadata": {},
   "outputs": [],
   "source": [
    "from photutils.aperture import CircularAnnulus, CircularAperture\n",
    "\n",
    "src_photutils = CircularAperture(xy_com, r=r_src)\n",
    "bkg_photutils = CircularAnnulus(xy_com , r_in=r_in, r_out=r_out)\n",
    "\n",
    "fig, ax = plot_image(data)\n",
    "src_photutils.plot(ax=ax, color=\"C0\", label=\"Ouverture photutils\")\n",
    "bkg_photutils.plot(ax=ax, color=\"C2\", label=\"Background photutils\")\n",
    "plt.legend()\n",
    "plt.show()"
   ]
  },
  {
   "cell_type": "markdown",
   "id": "655cebdd",
   "metadata": {},
   "source": [
    "Et superposons les deux méthodes\n",
    "\n",
    "**Exercice: Superposez les ouvertures que vous avez calculez et celles de photutils pour les comparer**"
   ]
  },
  {
   "cell_type": "code",
   "execution_count": null,
   "id": "ff4b5dac",
   "metadata": {},
   "outputs": [],
   "source": [
    "# TODO: Combine"
   ]
  },
  {
   "cell_type": "markdown",
   "id": "8dcd7223",
   "metadata": {},
   "source": [
    "### 3 et 5. Calculer le flux total et le bruit de fond\n",
    "\n",
    "Nous avons maintenant tout ce qu'il faut pour calculer la photométrie.\n",
    "Il suffit de faire la somme du flux et de soustraire le bruit de fond.\n",
    "\n",
    "**Exercice: Calculez le flux total, puis corrigez le en soustrayant le bruit de fond. Soustrayez la médiane du bruit de fond de chaque pixel dans votre somme.**"
   ]
  },
  {
   "cell_type": "code",
   "execution_count": null,
   "id": "7b17cbc4",
   "metadata": {},
   "outputs": [],
   "source": [
    "bkg_flux = bkg_aperture[\"flux\"]\n",
    "median_bkg = np.median(bkg_flux)\n",
    "src_flux = src_aperture[\"flux\"]\n",
    "N_pix = len(src_flux)\n",
    "bkg_tot = N_pix * median_bkg\n",
    "src_tot = np.sum(src_flux)\n",
    "src_phot = src_tot - bkg_tot\n",
    "print(\"Median background flux\", median_bkg)\n",
    "print(\"Total background flux\", bkg_tot)\n",
    "print(\"Raw source flux\", src_tot)\n",
    "print(\"Corrected source flux\", src_phot)"
   ]
  },
  {
   "cell_type": "markdown",
   "id": "97693e5c",
   "metadata": {},
   "source": [
    "On peut vérifier les résultats avec photutils.\n",
    "On utilise la méthode `center` qui approxime au pixel près, comme nous faisons plus haut."
   ]
  },
  {
   "cell_type": "code",
   "execution_count": null,
   "id": "280f1716",
   "metadata": {},
   "outputs": [],
   "source": [
    "from photutils.aperture import ApertureStats, aperture_photometry\n",
    "\n",
    "# NOTE: Petite différence pour exact vs \"center\"\n",
    "bkg_stats = ApertureStats(data, bkg_photutils)\n",
    "src_stats = ApertureStats(data, src_photutils, sum_method=\"center\")\n",
    "photutils_aphot = aperture_photometry(data - bkg_stats.median, src_photutils, method=\"center\")\n",
    "print(\"Median background flux\", bkg_stats.median)\n",
    "print(\"Raw source flux\", src_stats.sum)\n",
    "print(\"Aperture photometry\")\n",
    "print(photutils_aphot)"
   ]
  },
  {
   "cell_type": "markdown",
   "id": "236874cf",
   "metadata": {},
   "source": [
    "### 6. Conversion du flux en magnitude\n",
    "\n",
    "Nous avons maintenant le flux total en Jy.\n",
    "Typiquement, la luminosité des objets astronomique est mesurée avec des [magnitudes](https://en.wikipedia.org/wiki/Magnitude_(astronomy)).\n",
    "\n",
    "La façon la plus rapide d'obtenir des magnitudes est de convertir d'abord en magnitudes AB, puis en magnitude Vega en utilisant un fichier de référence fournipar l'équipe Webb.\n",
    "Les équations ci-dessous sont tirées de la [documentation pour la calibration en flux NIRCam](https://jwst-docs.stsci.edu/jwst-near-infrared-camera/nircam-performance/nircam-absolute-flux-calibration-and-zeropoints#gsc.tab=0).\n",
    "\n",
    "**Exercice: Nous allons compléter cette section en groupe. Mais les équations sont disponibles au lien ci-dessus si vous avez de l'avance.**"
   ]
  },
  {
   "cell_type": "code",
   "execution_count": null,
   "id": "8775a3b3",
   "metadata": {},
   "outputs": [],
   "source": [
    "import asdf\n",
    "\n",
    "# TODO: AB mag\n",
    "ab_mag = None\n",
    "\n",
    "def get_abvega_offset(filt: str):\n",
    "    abvega_path = data_dir / \"jwst_nircam_abvegaoffset_0002.asdf\"\n",
    "    with asdf.open(abvega_path) as af:\n",
    "        offset_tbl = af[\"abvega_offset\"]\n",
    "    mask = (offset_tbl[\"filter\"] == filt.upper()) & (offset_tbl[\"pupil\"] == \"CLEAR\")\n",
    "    offset_row = offset_tbl[mask]\n",
    "    assert len(offset_row) == 1\n",
    "    offset_row = offset_row[0]\n",
    "    return offset_row[\"abvega_offset\"]\n",
    "\n",
    "# TODO: Convert with offset\n",
    "vega_mag = None\n",
    "print(\"Magnitude Vega\", vega_mag)"
   ]
  },
  {
   "cell_type": "markdown",
   "id": "a98fc966",
   "metadata": {},
   "source": [
    "### 7. Correction d'ouverture\n",
    "\n",
    "Si vous comparez la magnitude ci-dessus avec celle de l'[article](https://ui.adsabs.harvard.edu/abs/2025AJ....169..163A/abstract) pour le même objet, vous remarquerez une petite différence.\n",
    "Il faut en réalité corriger la magnitude pour tenir compte du fait que nous utilisons une ouverture finie, et qu'une partie de la luminosité n'est donc pas inclue dans l'ouverture.\n",
    "\n",
    "La correction dépend du rayon de l'ouverture et de l'anneau de bruit de fond.\n",
    "Il faut donc répéter le calcul de la photométrie avec les paramètres `r_phot`, `skyin` et `skyout` dans le dictionnaire ci-dessous. Il est encore une fois itré d'un fichier de référence Webb.\n",
    "Ensuite, il faudra multiplier le flux total par `apcorr`.\n",
    "Utilisons `photutils` pour répéter l'analyse."
   ]
  },
  {
   "cell_type": "code",
   "execution_count": null,
   "id": "7ef6aa89-8e0b-414f-8962-dcaa1107922b",
   "metadata": {},
   "outputs": [],
   "source": [
    "aperture_info_dict = {\n",
    "    \"f480m\": dict(zip((\"filt\", \"pupil\", \"ee\", \"r_phot\", \"apcorr\", \"skyin\", \"skyout\"), ('F480M', 'CLEAR', 0.7 ,  3.757,  1.4863, 4.92 , 7.083))),\n",
    "    \"f150w\": dict(zip((\"filt\", \"pupil\", \"ee\", \"r_phot\", \"apcorr\", \"skyin\", \"skyout\"), ('F150W', 'CLEAR', 0.7 ,  3.199,  1.4485, 6.082, 9.496))),\n",
    "}\n",
    "aperture_info = aperture_info_dict[\"f480m\"]\n",
    "print(aperture_info)"
   ]
  },
  {
   "cell_type": "code",
   "execution_count": null,
   "id": "7a4d915a-974c-4ed3-a0db-1d6b2a31e28a",
   "metadata": {},
   "outputs": [],
   "source": [
    "# TODO: Répéter toutes les étapes avec photutils."
   ]
  },
  {
   "cell_type": "markdown",
   "id": "2c35d336",
   "metadata": {},
   "source": [
    "La magnitude est maintenant similaire à celle rapportée dans l'article!\n",
    "\n",
    "## Conclusions\n",
    "\n",
    "Voilà! Nous avons traversé toutes les étapes du calcul de la photométrie d'ouverture.\n",
    "Avec ce code, vous devriez pouvoir refaire le calcul pour le filtre F150W ou même pour une autre cible.\n",
    "\n",
    "Suggestions d'exercices additionnels, si vous voulez explorer le sujet un peu plus:\n",
    "\n",
    "- Adaptez le code pour calculer la photométrie du filtre F150W également\n",
    "- Nous n'avons pas calculé d'incertitudes! Les opérations effectuées ci-dessus respectent les mêmes règles de propagation d'erreur que vous avez vues lors de vos laboratoire. Pouvez-vous propager l'incertitude de l'image (donnée par l'extension `ERR`) au flux total? Puis à la magnitude? L'exemple du lien ci-dessous montre un exemple de calcule tenant compte des incertitudes.\n",
    "- Explorez cet exemple de l'équipe JWST montrant comment calculer photométrie d'ouverture pour plusieurs étoiles dans la même image: <https://spacetelescope.github.io/jdat_notebooks/notebooks/NIRCam/aperture_photometry/NIRCam_Aperture_Photometry_Example.html#point-source-aperture-photometry>\n",
    "- Explorez cet exemple de photométrie sur des images de galaxies: <https://spacetelescope.github.io/jdat_notebooks/notebooks/NIRCam/NIRCam_photometry/NIRCam_multiband_photometry.html>. La photométrie se calcule un peu différemment pour les sources étendues."
   ]
  }
 ],
 "metadata": {
  "jupytext": {
   "cell_metadata_filter": "-all",
   "main_language": "python",
   "notebook_metadata_filter": "-all"
  },
  "kernelspec": {
   "display_name": "cegep",
   "language": "python",
   "name": "cegep"
  },
  "language_info": {
   "codemirror_mode": {
    "name": "ipython",
    "version": 3
   },
   "file_extension": ".py",
   "mimetype": "text/x-python",
   "name": "python",
   "nbconvert_exporter": "python",
   "pygments_lexer": "ipython3",
   "version": "3.13.2"
  }
 },
 "nbformat": 4,
 "nbformat_minor": 5
}
